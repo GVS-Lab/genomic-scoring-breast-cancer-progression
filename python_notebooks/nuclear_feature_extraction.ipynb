{
 "cells": [
  {
   "cell_type": "markdown",
   "metadata": {},
   "source": [
    "# Extracting nuclear morphology and genome organization features \n",
    "\n",
    "## Background and aim\n",
    "\n",
    "The packing of the genome within the nucleus informs transcription and thereby reflects cell state. Therefore, changes in DNA packing information would be a powerful barometer of cell state transitions in important processes such as cancer progression, where there is an unmet need for biomakers. The gold standard for cell abnormalities in cancer is the nuclear grading done by a pathologist using a microscope. High resolution images of DNA as visualised using a fluorescent microscope is a convenient method to measure DNA organization and build a quantitative framework for tracing cell state transitions.\n",
    "\n",
    "Our samples are obtained from tissue microarray (TMA) slides containing annotated clinical biopsies from cancer patients as well as healthy individuals stained for DNA using Hoechst. In this notebook, we demonstrate how we perform nuclear segmentation and feature extraction."
   ]
  },
  {
   "cell_type": "markdown",
   "metadata": {},
   "source": [
    "## Nuclear Segmentation\n",
    "\n",
    "We segment nuclei using a custom stardist model that was trained using a combination of the 2018 DBS challenge and a few regions from our dataset that were manually annotated in house. "
   ]
  },
  {
   "cell_type": "code",
   "execution_count": 4,
   "metadata": {},
   "outputs": [
    {
     "name": "stdout",
     "output_type": "stream",
     "text": [
      "The autoreload extension is already loaded. To reload it, use:\n",
      "  %reload_ext autoreload\n"
     ]
    }
   ],
   "source": [
    "# import libraries\n",
    "%load_ext autoreload\n",
    "import sys\n",
    "sys.path.append(\"..\")\n",
    "import os\n",
    "\n",
    "from pathlib import Path\n",
    "from glob import glob\n",
    "import pandas as pd\n",
    "from tqdm import tqdm\n",
    "\n",
    "from src.utlis.segmentation_stardist_model import segment_objects_stardist2d\n",
    "from src.utlis.Run_nuclear_feature_extraction import run_nuclear_chromatin_feat_ext\n",
    "from src.utlis.summarising_features import summarise_feature_table\n"
   ]
  },
  {
   "cell_type": "code",
   "execution_count": 2,
   "metadata": {},
   "outputs": [],
   "source": [
    "#define paths\n",
    "path_to_rawimages = '/home/pathy_s/Documents/Mechanogenomic_Score_Breast_Cancer/Raw_Images/all_cores/'\n",
    "path_to_output_segmented_images = \"/home/pathy_s/Documents/Mechanogenomic_Score_Breast_Cancer/Segmented_labels/\"\n",
    "path_to_output_ij_rois = \"/home/pathy_s/Documents/Mechanogenomic_Score_Breast_Cancer/Segmented_ij_roi/\"\n",
    "\n",
    "path_to_model = os.path.join(os.path.dirname(os.getcwd()),'models/')\n",
    "#create output directories if they do not exist\n",
    "Path(path_to_output_segmented_images).mkdir(parents=True, exist_ok=True)\n",
    "Path(path_to_output_ij_rois).mkdir(parents=True, exist_ok=True)"
   ]
  },
  {
   "cell_type": "code",
   "execution_count": 3,
   "metadata": {},
   "outputs": [
    {
     "name": "stdout",
     "output_type": "stream",
     "text": [
      "Loading network weights from 'weights_best.h5'.\n",
      "Loading thresholds from 'thresholds.json'.\n",
      "Using default values: prob_thresh=0.507725, nms_thresh=0.3.\n"
     ]
    },
    {
     "name": "stderr",
     "output_type": "stream",
     "text": [
      "100%|██████████| 650/650 [00:34<00:00, 18.84it/s]\n",
      "100%|██████████| 650/650 [00:31<00:00, 20.89it/s]\n",
      "100%|██████████| 650/650 [00:30<00:00, 21.00it/s]\n",
      "100%|██████████| 650/650 [00:30<00:00, 21.51it/s]\n",
      "100%|██████████| 650/650 [00:30<00:00, 21.36it/s]\n",
      "100%|██████████| 650/650 [00:30<00:00, 21.29it/s]\n",
      "100%|██████████| 650/650 [00:30<00:00, 21.12it/s]\n",
      "100%|██████████| 650/650 [00:30<00:00, 21.50it/s]\n",
      "100%|██████████| 650/650 [00:30<00:00, 21.27it/s]\n",
      "100%|██████████| 729/729 [00:35<00:00, 20.58it/s]\n",
      "100%|██████████| 650/650 [00:31<00:00, 20.70it/s]\n",
      "100%|██████████| 650/650 [00:31<00:00, 20.96it/s]\n",
      "100%|██████████| 650/650 [00:30<00:00, 21.00it/s]\n",
      "100%|██████████| 650/650 [00:31<00:00, 20.55it/s]\n",
      "100%|██████████| 650/650 [00:30<00:00, 21.00it/s]\n",
      "100%|██████████| 650/650 [00:31<00:00, 20.61it/s]\n",
      "100%|██████████| 650/650 [00:30<00:00, 21.01it/s]\n",
      "100%|██████████| 650/650 [00:31<00:00, 20.44it/s]\n",
      "100%|██████████| 650/650 [00:31<00:00, 20.85it/s]\n",
      "100%|██████████| 650/650 [00:31<00:00, 20.90it/s]\n",
      "100%|██████████| 650/650 [00:31<00:00, 20.81it/s]\n",
      "100%|██████████| 650/650 [00:30<00:00, 21.15it/s]\n",
      "100%|██████████| 324/324 [00:15<00:00, 20.47it/s]\n",
      "100%|██████████| 324/324 [00:14<00:00, 21.75it/s]\n",
      "100%|██████████| 324/324 [00:15<00:00, 20.77it/s]\n",
      "100%|██████████| 324/324 [00:15<00:00, 20.88it/s]\n",
      "100%|██████████| 324/324 [00:15<00:00, 20.67it/s]\n",
      "100%|██████████| 324/324 [00:15<00:00, 20.99it/s]\n",
      "100%|██████████| 324/324 [00:15<00:00, 20.87it/s]\n",
      "100%|██████████| 324/324 [00:15<00:00, 20.45it/s]\n",
      "100%|██████████| 324/324 [00:15<00:00, 20.79it/s]\n",
      "100%|██████████| 324/324 [00:15<00:00, 21.11it/s]\n",
      "100%|██████████| 324/324 [00:15<00:00, 21.13it/s]\n",
      "100%|██████████| 324/324 [00:15<00:00, 20.85it/s]\n",
      "100%|██████████| 324/324 [00:15<00:00, 20.81it/s]\n",
      "100%|██████████| 324/324 [00:15<00:00, 21.01it/s]\n",
      "100%|██████████| 324/324 [00:15<00:00, 20.82it/s]\n",
      "100%|██████████| 324/324 [00:15<00:00, 20.89it/s]\n",
      "100%|██████████| 324/324 [00:15<00:00, 21.08it/s]\n",
      "100%|██████████| 324/324 [00:15<00:00, 20.83it/s]\n",
      "100%|██████████| 324/324 [00:15<00:00, 21.07it/s]\n",
      "100%|██████████| 324/324 [00:15<00:00, 21.13it/s]\n",
      "100%|██████████| 324/324 [00:15<00:00, 20.75it/s]\n",
      "100%|██████████| 324/324 [00:15<00:00, 21.03it/s]\n",
      "100%|██████████| 324/324 [00:15<00:00, 20.65it/s]\n",
      "100%|██████████| 324/324 [00:15<00:00, 20.61it/s]\n",
      "100%|██████████| 324/324 [00:15<00:00, 20.82it/s]\n",
      "100%|██████████| 324/324 [00:15<00:00, 20.64it/s]\n",
      "100%|██████████| 324/324 [00:15<00:00, 20.99it/s]\n",
      "100%|██████████| 324/324 [00:15<00:00, 20.68it/s]\n",
      "100%|██████████| 324/324 [00:14<00:00, 21.75it/s]\n",
      "100%|██████████| 324/324 [00:15<00:00, 21.17it/s]\n",
      "100%|██████████| 324/324 [00:15<00:00, 20.82it/s]\n",
      "100%|██████████| 324/324 [00:15<00:00, 20.41it/s]\n",
      "100%|██████████| 324/324 [00:15<00:00, 20.87it/s]\n",
      "100%|██████████| 324/324 [00:15<00:00, 21.10it/s]\n",
      "100%|██████████| 324/324 [00:15<00:00, 20.76it/s]\n",
      "100%|██████████| 324/324 [00:15<00:00, 21.05it/s]\n",
      "100%|██████████| 324/324 [00:15<00:00, 20.70it/s]\n",
      "100%|██████████| 324/324 [00:15<00:00, 20.96it/s]\n",
      "100%|██████████| 324/324 [00:15<00:00, 21.37it/s]\n",
      "100%|██████████| 324/324 [00:15<00:00, 21.08it/s]\n",
      "100%|██████████| 324/324 [00:15<00:00, 21.03it/s]\n",
      "100%|██████████| 324/324 [00:15<00:00, 20.84it/s]\n",
      "100%|██████████| 324/324 [00:15<00:00, 21.11it/s]\n",
      "100%|██████████| 324/324 [00:15<00:00, 21.28it/s]\n",
      "100%|██████████| 324/324 [00:15<00:00, 21.56it/s]\n",
      "100%|██████████| 324/324 [00:15<00:00, 20.79it/s]\n",
      "100%|██████████| 324/324 [00:15<00:00, 21.07it/s]\n",
      "100%|██████████| 324/324 [00:15<00:00, 21.17it/s]\n",
      "100%|██████████| 324/324 [00:15<00:00, 21.14it/s]\n",
      "100%|██████████| 324/324 [00:15<00:00, 20.94it/s]\n",
      "100%|██████████| 324/324 [00:15<00:00, 21.31it/s]\n",
      "100%|██████████| 324/324 [00:15<00:00, 21.03it/s]\n",
      "100%|██████████| 324/324 [00:15<00:00, 20.83it/s]\n",
      "100%|██████████| 324/324 [00:15<00:00, 21.14it/s]\n",
      "100%|██████████| 324/324 [00:15<00:00, 20.84it/s]\n"
     ]
    }
   ],
   "source": [
    "#Segmentation\n",
    "segment_objects_stardist2d(image_dir = path_to_rawimages,\n",
    "                           output_dir_labels = path_to_output_segmented_images,\n",
    "                           output_dir_ijroi = path_to_output_ij_rois,\n",
    "                           use_pretrained = False,\n",
    "                           model_name ='tissue_nuclear_segmentation',\n",
    "                           model_dir = path_to_model)"
   ]
  },
  {
   "cell_type": "markdown",
   "metadata": {},
   "source": [
    "## Compute descriptors of spatial chromatin organization \n",
    "\n",
    "Following segmentation, we measure features that characterizes the chromatin features using a combination of features from the scikit package as well as custom features such as local curvature and heterochromatin organization. "
   ]
  },
  {
   "cell_type": "code",
   "execution_count": 5,
   "metadata": {},
   "outputs": [],
   "source": [
    "## setup paths\n",
    "path_to_rawimages='/home/pathy_s/Documents/Mechanogenomic_Score_Breast_Cancer/Raw_Images/all_cores/'\n",
    "path_to_segmented_images=\"/home/pathy_s/Documents/Mechanogenomic_Score_Breast_Cancer/Segmented_labels/\"\n",
    "\n",
    "path_to_output_nuclear_features = \"/home/pathy_s/Documents/Mechanogenomic_Score_Breast_Cancer/NMCO_features/\"\n",
    "path_to_output_tissue_features = \"/home/pathy_s/Documents/Mechanogenomic_Score_Breast_Cancer/Tissue_Summary/\"\n",
    "#create output directories if they do not exist\n",
    "Path(path_to_output_nuclear_features).mkdir(parents=True, exist_ok=True)\n",
    "Path(path_to_output_tissue_features).mkdir(parents=True, exist_ok=True)\n"
   ]
  },
  {
   "cell_type": "code",
   "execution_count": null,
   "metadata": {},
   "outputs": [
    {
     "name": "stderr",
     "output_type": "stream",
     "text": [
      "\r",
      "  0%|          | 0/77 [00:00<?, ?it/s]"
     ]
    },
    {
     "data": {
      "application/vnd.jupyter.widget-view+json": {
       "model_id": "8b37ab76b2774f6086aa24010d98b4a1",
       "version_major": 2,
       "version_minor": 0
      },
      "text/plain": [
       "  0%|          | 0/3561 [00:00<?, ?it/s]"
      ]
     },
     "metadata": {},
     "output_type": "display_data"
    },
    {
     "name": "stderr",
     "output_type": "stream",
     "text": [
      "\r",
      "  1%|▏         | 1/77 [04:01<5:05:29, 241.17s/it]"
     ]
    },
    {
     "data": {
      "application/vnd.jupyter.widget-view+json": {
       "model_id": "6fe44c5e52014cd7a4ae856c1a84c5cd",
       "version_major": 2,
       "version_minor": 0
      },
      "text/plain": [
       "  0%|          | 0/3807 [00:00<?, ?it/s]"
      ]
     },
     "metadata": {},
     "output_type": "display_data"
    },
    {
     "name": "stderr",
     "output_type": "stream",
     "text": [
      "\r",
      "  3%|▎         | 2/77 [08:19<5:13:46, 251.02s/it]"
     ]
    },
    {
     "data": {
      "application/vnd.jupyter.widget-view+json": {
       "model_id": "1f74c03fbc8f4509a47c091c5cff9cd4",
       "version_major": 2,
       "version_minor": 0
      },
      "text/plain": [
       "  0%|          | 0/3702 [00:00<?, ?it/s]"
      ]
     },
     "metadata": {},
     "output_type": "display_data"
    },
    {
     "name": "stderr",
     "output_type": "stream",
     "text": [
      "\r",
      "  4%|▍         | 3/77 [11:49<4:46:53, 232.61s/it]"
     ]
    },
    {
     "data": {
      "application/vnd.jupyter.widget-view+json": {
       "model_id": "58c79a340bb546a29105c6d715702202",
       "version_major": 2,
       "version_minor": 0
      },
      "text/plain": [
       "  0%|          | 0/2904 [00:00<?, ?it/s]"
      ]
     },
     "metadata": {},
     "output_type": "display_data"
    },
    {
     "name": "stderr",
     "output_type": "stream",
     "text": [
      "\r",
      "  5%|▌         | 4/77 [14:34<4:10:14, 205.68s/it]"
     ]
    },
    {
     "data": {
      "application/vnd.jupyter.widget-view+json": {
       "model_id": "fc8b91fc2be34129ad9d453739655a40",
       "version_major": 2,
       "version_minor": 0
      },
      "text/plain": [
       "  0%|          | 0/2722 [00:00<?, ?it/s]"
      ]
     },
     "metadata": {},
     "output_type": "display_data"
    },
    {
     "name": "stderr",
     "output_type": "stream",
     "text": [
      "\r",
      "  6%|▋         | 5/77 [17:09<3:45:12, 187.67s/it]"
     ]
    },
    {
     "data": {
      "application/vnd.jupyter.widget-view+json": {
       "model_id": "5a312f61925645368fcc6b8e05ba6755",
       "version_major": 2,
       "version_minor": 0
      },
      "text/plain": [
       "  0%|          | 0/2189 [00:00<?, ?it/s]"
      ]
     },
     "metadata": {},
     "output_type": "display_data"
    },
    {
     "name": "stderr",
     "output_type": "stream",
     "text": [
      "\r",
      "  8%|▊         | 6/77 [19:19<3:18:40, 167.89s/it]"
     ]
    },
    {
     "data": {
      "application/vnd.jupyter.widget-view+json": {
       "model_id": "ac30b625fc2e463d8eb841f9e0df9403",
       "version_major": 2,
       "version_minor": 0
      },
      "text/plain": [
       "  0%|          | 0/5447 [00:00<?, ?it/s]"
      ]
     },
     "metadata": {},
     "output_type": "display_data"
    },
    {
     "name": "stderr",
     "output_type": "stream",
     "text": [
      "\r",
      "  9%|▉         | 7/77 [24:51<4:18:24, 221.50s/it]"
     ]
    },
    {
     "data": {
      "application/vnd.jupyter.widget-view+json": {
       "model_id": "bcbbc288c7434d9db93b07429a4878fa",
       "version_major": 2,
       "version_minor": 0
      },
      "text/plain": [
       "  0%|          | 0/2768 [00:00<?, ?it/s]"
      ]
     },
     "metadata": {},
     "output_type": "display_data"
    },
    {
     "name": "stderr",
     "output_type": "stream",
     "text": [
      "\r",
      " 10%|█         | 8/77 [28:10<4:06:28, 214.33s/it]"
     ]
    },
    {
     "data": {
      "application/vnd.jupyter.widget-view+json": {
       "model_id": "80be10aaa1244151b38ae163716e3960",
       "version_major": 2,
       "version_minor": 0
      },
      "text/plain": [
       "  0%|          | 0/6642 [00:00<?, ?it/s]"
      ]
     },
     "metadata": {},
     "output_type": "display_data"
    },
    {
     "name": "stderr",
     "output_type": "stream",
     "text": [
      "\r",
      " 12%|█▏        | 9/77 [34:49<5:08:29, 272.21s/it]"
     ]
    },
    {
     "data": {
      "application/vnd.jupyter.widget-view+json": {
       "model_id": "87957a0645af45f39477ea5312af2ed0",
       "version_major": 2,
       "version_minor": 0
      },
      "text/plain": [
       "  0%|          | 0/7066 [00:00<?, ?it/s]"
      ]
     },
     "metadata": {},
     "output_type": "display_data"
    },
    {
     "name": "stderr",
     "output_type": "stream",
     "text": [
      "\r",
      " 13%|█▎        | 10/77 [41:43<5:52:49, 315.96s/it]"
     ]
    },
    {
     "data": {
      "application/vnd.jupyter.widget-view+json": {
       "model_id": "018ea2f02506476a98c6e51cb64f752c",
       "version_major": 2,
       "version_minor": 0
      },
      "text/plain": [
       "  0%|          | 0/7258 [00:00<?, ?it/s]"
      ]
     },
     "metadata": {},
     "output_type": "display_data"
    },
    {
     "name": "stderr",
     "output_type": "stream",
     "text": [
      "\r",
      " 14%|█▍        | 11/77 [50:22<6:55:58, 378.16s/it]"
     ]
    },
    {
     "data": {
      "application/vnd.jupyter.widget-view+json": {
       "model_id": "93e7de8645f44901ac87983e4c69a999",
       "version_major": 2,
       "version_minor": 0
      },
      "text/plain": [
       "  0%|          | 0/7641 [00:00<?, ?it/s]"
      ]
     },
     "metadata": {},
     "output_type": "display_data"
    },
    {
     "name": "stderr",
     "output_type": "stream",
     "text": [
      "\r",
      " 16%|█▌        | 12/77 [58:04<7:17:02, 403.43s/it]"
     ]
    },
    {
     "data": {
      "application/vnd.jupyter.widget-view+json": {
       "model_id": "1d73cc2448034b10b95708cfcac3c466",
       "version_major": 2,
       "version_minor": 0
      },
      "text/plain": [
       "  0%|          | 0/7100 [00:00<?, ?it/s]"
      ]
     },
     "metadata": {},
     "output_type": "display_data"
    },
    {
     "name": "stderr",
     "output_type": "stream",
     "text": [
      "\r",
      " 17%|█▋        | 13/77 [1:05:16<7:19:40, 412.20s/it]"
     ]
    },
    {
     "data": {
      "application/vnd.jupyter.widget-view+json": {
       "model_id": "8dedbb2795414f0c97eeed82b7bb824c",
       "version_major": 2,
       "version_minor": 0
      },
      "text/plain": [
       "  0%|          | 0/11682 [00:00<?, ?it/s]"
      ]
     },
     "metadata": {},
     "output_type": "display_data"
    },
    {
     "name": "stderr",
     "output_type": "stream",
     "text": [
      "\r",
      " 18%|█▊        | 14/77 [1:16:58<8:44:36, 499.62s/it]"
     ]
    },
    {
     "data": {
      "application/vnd.jupyter.widget-view+json": {
       "model_id": "d09e58925c544ec4925db2f6bece4eb2",
       "version_major": 2,
       "version_minor": 0
      },
      "text/plain": [
       "  0%|          | 0/5690 [00:00<?, ?it/s]"
      ]
     },
     "metadata": {},
     "output_type": "display_data"
    },
    {
     "name": "stderr",
     "output_type": "stream",
     "text": [
      "\r",
      " 19%|█▉        | 15/77 [1:22:33<7:44:59, 449.99s/it]"
     ]
    },
    {
     "data": {
      "application/vnd.jupyter.widget-view+json": {
       "model_id": "ae8f0640fce24e1e8c8b63b1fa336104",
       "version_major": 2,
       "version_minor": 0
      },
      "text/plain": [
       "  0%|          | 0/5604 [00:00<?, ?it/s]"
      ]
     },
     "metadata": {},
     "output_type": "display_data"
    },
    {
     "name": "stderr",
     "output_type": "stream",
     "text": [
      "\r",
      " 21%|██        | 16/77 [1:28:06<7:01:53, 414.98s/it]"
     ]
    },
    {
     "data": {
      "application/vnd.jupyter.widget-view+json": {
       "model_id": "581178b621e4422c8e89cdce301861a2",
       "version_major": 2,
       "version_minor": 0
      },
      "text/plain": [
       "  0%|          | 0/6241 [00:00<?, ?it/s]"
      ]
     },
     "metadata": {},
     "output_type": "display_data"
    },
    {
     "name": "stderr",
     "output_type": "stream",
     "text": [
      "\r",
      " 22%|██▏       | 17/77 [1:34:06<6:38:27, 398.45s/it]"
     ]
    },
    {
     "data": {
      "application/vnd.jupyter.widget-view+json": {
       "model_id": "49a39f0bdeae4d34a78f14ca016a4a17",
       "version_major": 2,
       "version_minor": 0
      },
      "text/plain": [
       "  0%|          | 0/5366 [00:00<?, ?it/s]"
      ]
     },
     "metadata": {},
     "output_type": "display_data"
    },
    {
     "name": "stderr",
     "output_type": "stream",
     "text": [
      "\r",
      " 23%|██▎       | 18/77 [1:39:19<6:06:30, 372.73s/it]"
     ]
    },
    {
     "data": {
      "application/vnd.jupyter.widget-view+json": {
       "model_id": "a7989813198b41928390b3ca70799ce4",
       "version_major": 2,
       "version_minor": 0
      },
      "text/plain": [
       "  0%|          | 0/5797 [00:00<?, ?it/s]"
      ]
     },
     "metadata": {},
     "output_type": "display_data"
    },
    {
     "name": "stderr",
     "output_type": "stream",
     "text": [
      "\r",
      " 25%|██▍       | 19/77 [1:45:02<5:51:41, 363.82s/it]"
     ]
    },
    {
     "data": {
      "application/vnd.jupyter.widget-view+json": {
       "model_id": "fbfd77e07ba545bab5886deab8e1a6d1",
       "version_major": 2,
       "version_minor": 0
      },
      "text/plain": [
       "  0%|          | 0/3780 [00:00<?, ?it/s]"
      ]
     },
     "metadata": {},
     "output_type": "display_data"
    },
    {
     "name": "stderr",
     "output_type": "stream",
     "text": [
      "\r",
      " 26%|██▌       | 20/77 [1:48:46<5:05:44, 321.83s/it]"
     ]
    },
    {
     "data": {
      "application/vnd.jupyter.widget-view+json": {
       "model_id": "aa7be162f0454a059f5be1ffe52db864",
       "version_major": 2,
       "version_minor": 0
      },
      "text/plain": [
       "  0%|          | 0/7163 [00:00<?, ?it/s]"
      ]
     },
     "metadata": {},
     "output_type": "display_data"
    },
    {
     "name": "stderr",
     "output_type": "stream",
     "text": [
      "\r",
      " 27%|██▋       | 21/77 [1:55:56<5:30:43, 354.35s/it]"
     ]
    },
    {
     "data": {
      "application/vnd.jupyter.widget-view+json": {
       "model_id": "7d9649e0353b4dcebcccaf32dbf3eb58",
       "version_major": 2,
       "version_minor": 0
      },
      "text/plain": [
       "  0%|          | 0/7295 [00:00<?, ?it/s]"
      ]
     },
     "metadata": {},
     "output_type": "display_data"
    },
    {
     "name": "stderr",
     "output_type": "stream",
     "text": [
      "\r",
      " 29%|██▊       | 22/77 [2:03:07<5:45:50, 377.29s/it]"
     ]
    },
    {
     "data": {
      "application/vnd.jupyter.widget-view+json": {
       "model_id": "9452179a530d4066a7f5c5fe805bdd2d",
       "version_major": 2,
       "version_minor": 0
      },
      "text/plain": [
       "  0%|          | 0/7505 [00:00<?, ?it/s]"
      ]
     },
     "metadata": {},
     "output_type": "display_data"
    },
    {
     "name": "stderr",
     "output_type": "stream",
     "text": [
      "\r",
      " 30%|██▉       | 23/77 [2:12:02<6:22:09, 424.61s/it]"
     ]
    },
    {
     "data": {
      "application/vnd.jupyter.widget-view+json": {
       "model_id": "6a05b9b085dc49ad9ea5d0ef1d3bf6b2",
       "version_major": 2,
       "version_minor": 0
      },
      "text/plain": [
       "  0%|          | 0/5928 [00:00<?, ?it/s]"
      ]
     },
     "metadata": {},
     "output_type": "display_data"
    },
    {
     "name": "stderr",
     "output_type": "stream",
     "text": [
      "\r",
      " 31%|███       | 24/77 [2:18:02<5:58:00, 405.28s/it]"
     ]
    },
    {
     "data": {
      "application/vnd.jupyter.widget-view+json": {
       "model_id": "17116e8b39004744905d0862287005d7",
       "version_major": 2,
       "version_minor": 0
      },
      "text/plain": [
       "  0%|          | 0/6374 [00:00<?, ?it/s]"
      ]
     },
     "metadata": {},
     "output_type": "display_data"
    },
    {
     "name": "stderr",
     "output_type": "stream",
     "text": [
      "\r",
      " 32%|███▏      | 25/77 [2:25:39<6:04:42, 420.82s/it]"
     ]
    },
    {
     "data": {
      "application/vnd.jupyter.widget-view+json": {
       "model_id": "9ea2ba4c069c495aa1073fd24cd8e9da",
       "version_major": 2,
       "version_minor": 0
      },
      "text/plain": [
       "  0%|          | 0/6890 [00:00<?, ?it/s]"
      ]
     },
     "metadata": {},
     "output_type": "display_data"
    },
    {
     "name": "stderr",
     "output_type": "stream",
     "text": [
      "\r",
      " 34%|███▍      | 26/77 [2:32:38<5:57:12, 420.25s/it]"
     ]
    },
    {
     "data": {
      "application/vnd.jupyter.widget-view+json": {
       "model_id": "cec2b857d4fb4963860c18e17a5d4f53",
       "version_major": 2,
       "version_minor": 0
      },
      "text/plain": [
       "  0%|          | 0/6451 [00:00<?, ?it/s]"
      ]
     },
     "metadata": {},
     "output_type": "display_data"
    },
    {
     "name": "stderr",
     "output_type": "stream",
     "text": [
      "\r",
      " 35%|███▌      | 27/77 [2:39:08<5:42:37, 411.16s/it]"
     ]
    },
    {
     "data": {
      "application/vnd.jupyter.widget-view+json": {
       "model_id": "dd473e1321fa4c03bb87410c4db22603",
       "version_major": 2,
       "version_minor": 0
      },
      "text/plain": [
       "  0%|          | 0/5031 [00:00<?, ?it/s]"
      ]
     },
     "metadata": {},
     "output_type": "display_data"
    },
    {
     "name": "stderr",
     "output_type": "stream",
     "text": [
      "\r",
      " 36%|███▋      | 28/77 [2:44:04<5:07:37, 376.67s/it]"
     ]
    },
    {
     "data": {
      "application/vnd.jupyter.widget-view+json": {
       "model_id": "bd0f2e7b88224b64a479c8b66c08d388",
       "version_major": 2,
       "version_minor": 0
      },
      "text/plain": [
       "  0%|          | 0/7784 [00:00<?, ?it/s]"
      ]
     },
     "metadata": {},
     "output_type": "display_data"
    },
    {
     "name": "stderr",
     "output_type": "stream",
     "text": [
      "\r",
      " 38%|███▊      | 29/77 [2:51:47<5:21:57, 402.45s/it]"
     ]
    },
    {
     "data": {
      "application/vnd.jupyter.widget-view+json": {
       "model_id": "013cdc91acdc4ac1b1c87b02a36e1833",
       "version_major": 2,
       "version_minor": 0
      },
      "text/plain": [
       "  0%|          | 0/4982 [00:00<?, ?it/s]"
      ]
     },
     "metadata": {},
     "output_type": "display_data"
    },
    {
     "name": "stderr",
     "output_type": "stream",
     "text": [
      "\r",
      " 39%|███▉      | 30/77 [2:56:43<4:50:13, 370.49s/it]"
     ]
    },
    {
     "data": {
      "application/vnd.jupyter.widget-view+json": {
       "model_id": "e7887af7f7dd45e1992ad844405db572",
       "version_major": 2,
       "version_minor": 0
      },
      "text/plain": [
       "  0%|          | 0/8452 [00:00<?, ?it/s]"
      ]
     },
     "metadata": {},
     "output_type": "display_data"
    },
    {
     "name": "stderr",
     "output_type": "stream",
     "text": [
      "\r",
      " 40%|████      | 31/77 [3:05:33<5:20:45, 418.38s/it]"
     ]
    },
    {
     "data": {
      "application/vnd.jupyter.widget-view+json": {
       "model_id": "5b5a550205144b2eaeb952031b2b62ac",
       "version_major": 2,
       "version_minor": 0
      },
      "text/plain": [
       "  0%|          | 0/6719 [00:00<?, ?it/s]"
      ]
     },
     "metadata": {},
     "output_type": "display_data"
    },
    {
     "name": "stderr",
     "output_type": "stream",
     "text": [
      "\r",
      " 42%|████▏     | 32/77 [3:12:59<5:20:01, 426.70s/it]"
     ]
    },
    {
     "data": {
      "application/vnd.jupyter.widget-view+json": {
       "model_id": "d452d6fe93db40d8bcefba9334591c9a",
       "version_major": 2,
       "version_minor": 0
      },
      "text/plain": [
       "  0%|          | 0/4701 [00:00<?, ?it/s]"
      ]
     },
     "metadata": {},
     "output_type": "display_data"
    },
    {
     "name": "stderr",
     "output_type": "stream",
     "text": [
      "\r",
      " 43%|████▎     | 33/77 [3:18:07<4:46:42, 390.96s/it]"
     ]
    },
    {
     "data": {
      "application/vnd.jupyter.widget-view+json": {
       "model_id": "035e24bd94d34a229ffa58a27d565df1",
       "version_major": 2,
       "version_minor": 0
      },
      "text/plain": [
       "  0%|          | 0/3915 [00:00<?, ?it/s]"
      ]
     },
     "metadata": {},
     "output_type": "display_data"
    },
    {
     "name": "stderr",
     "output_type": "stream",
     "text": [
      "\r",
      " 44%|████▍     | 34/77 [3:22:00<4:06:19, 343.71s/it]"
     ]
    },
    {
     "data": {
      "application/vnd.jupyter.widget-view+json": {
       "model_id": "38b1797dc85640a681ccc03b6cf1cbf0",
       "version_major": 2,
       "version_minor": 0
      },
      "text/plain": [
       "  0%|          | 0/6218 [00:00<?, ?it/s]"
      ]
     },
     "metadata": {},
     "output_type": "display_data"
    },
    {
     "name": "stderr",
     "output_type": "stream",
     "text": [
      "\r",
      " 45%|████▌     | 35/77 [3:28:14<4:06:51, 352.66s/it]"
     ]
    },
    {
     "data": {
      "application/vnd.jupyter.widget-view+json": {
       "model_id": "4bc1e6c721c04e7dae6638938f9ea0d0",
       "version_major": 2,
       "version_minor": 0
      },
      "text/plain": [
       "  0%|          | 0/5613 [00:00<?, ?it/s]"
      ]
     },
     "metadata": {},
     "output_type": "display_data"
    },
    {
     "name": "stderr",
     "output_type": "stream",
     "text": [
      "\r",
      " 47%|████▋     | 36/77 [3:33:41<3:55:42, 344.94s/it]"
     ]
    },
    {
     "data": {
      "application/vnd.jupyter.widget-view+json": {
       "model_id": "0c7e15ef50814e9faee8f418aafc04b0",
       "version_major": 2,
       "version_minor": 0
      },
      "text/plain": [
       "  0%|          | 0/4525 [00:00<?, ?it/s]"
      ]
     },
     "metadata": {},
     "output_type": "display_data"
    },
    {
     "name": "stderr",
     "output_type": "stream",
     "text": [
      "\r",
      " 48%|████▊     | 37/77 [3:37:57<3:32:18, 318.46s/it]"
     ]
    },
    {
     "data": {
      "application/vnd.jupyter.widget-view+json": {
       "model_id": "a6b22bb4531c4cb3bfa58e101c3b0ecc",
       "version_major": 2,
       "version_minor": 0
      },
      "text/plain": [
       "  0%|          | 0/4880 [00:00<?, ?it/s]"
      ]
     },
     "metadata": {},
     "output_type": "display_data"
    },
    {
     "name": "stderr",
     "output_type": "stream",
     "text": [
      "\r",
      " 49%|████▉     | 38/77 [3:42:34<3:18:55, 306.05s/it]"
     ]
    },
    {
     "data": {
      "application/vnd.jupyter.widget-view+json": {
       "model_id": "fc6b686372ef46e5a2ca10bddad2594c",
       "version_major": 2,
       "version_minor": 0
      },
      "text/plain": [
       "  0%|          | 0/6537 [00:00<?, ?it/s]"
      ]
     },
     "metadata": {},
     "output_type": "display_data"
    },
    {
     "name": "stderr",
     "output_type": "stream",
     "text": [
      "\r",
      " 51%|█████     | 39/77 [3:48:51<3:27:11, 327.15s/it]"
     ]
    },
    {
     "data": {
      "application/vnd.jupyter.widget-view+json": {
       "model_id": "00391b90ad9143eca62839ea2a6a028d",
       "version_major": 2,
       "version_minor": 0
      },
      "text/plain": [
       "  0%|          | 0/4787 [00:00<?, ?it/s]"
      ]
     },
     "metadata": {},
     "output_type": "display_data"
    },
    {
     "name": "stderr",
     "output_type": "stream",
     "text": [
      "\r",
      " 52%|█████▏    | 40/77 [3:53:21<3:11:16, 310.17s/it]"
     ]
    },
    {
     "data": {
      "application/vnd.jupyter.widget-view+json": {
       "model_id": "95c4dc78208d4cb9b5695abfed99719f",
       "version_major": 2,
       "version_minor": 0
      },
      "text/plain": [
       "  0%|          | 0/4926 [00:00<?, ?it/s]"
      ]
     },
     "metadata": {},
     "output_type": "display_data"
    },
    {
     "name": "stderr",
     "output_type": "stream",
     "text": [
      "\r",
      " 53%|█████▎    | 41/77 [3:58:04<3:01:12, 302.02s/it]"
     ]
    },
    {
     "data": {
      "application/vnd.jupyter.widget-view+json": {
       "model_id": "4c8d34d215af424aa4c10354d5415f79",
       "version_major": 2,
       "version_minor": 0
      },
      "text/plain": [
       "  0%|          | 0/4576 [00:00<?, ?it/s]"
      ]
     },
     "metadata": {},
     "output_type": "display_data"
    },
    {
     "name": "stderr",
     "output_type": "stream",
     "text": [
      "\r",
      " 55%|█████▍    | 42/77 [4:02:30<2:49:48, 291.10s/it]"
     ]
    },
    {
     "data": {
      "application/vnd.jupyter.widget-view+json": {
       "model_id": "7dba8f9465994190b25b5223315b4d16",
       "version_major": 2,
       "version_minor": 0
      },
      "text/plain": [
       "  0%|          | 0/6354 [00:00<?, ?it/s]"
      ]
     },
     "metadata": {},
     "output_type": "display_data"
    },
    {
     "name": "stderr",
     "output_type": "stream",
     "text": [
      "\r",
      " 56%|█████▌    | 43/77 [4:08:38<2:57:59, 314.10s/it]"
     ]
    },
    {
     "data": {
      "application/vnd.jupyter.widget-view+json": {
       "model_id": "bbb9349f6ab645b888f9ecf393ea26b3",
       "version_major": 2,
       "version_minor": 0
      },
      "text/plain": [
       "  0%|          | 0/6569 [00:00<?, ?it/s]"
      ]
     },
     "metadata": {},
     "output_type": "display_data"
    },
    {
     "name": "stderr",
     "output_type": "stream",
     "text": [
      "\r",
      " 57%|█████▋    | 44/77 [4:14:57<3:03:29, 333.61s/it]"
     ]
    },
    {
     "data": {
      "application/vnd.jupyter.widget-view+json": {
       "model_id": "6c93b26d94e1489f8fd64c84d16a01bc",
       "version_major": 2,
       "version_minor": 0
      },
      "text/plain": [
       "  0%|          | 0/6126 [00:00<?, ?it/s]"
      ]
     },
     "metadata": {},
     "output_type": "display_data"
    },
    {
     "name": "stderr",
     "output_type": "stream",
     "text": [
      "\r",
      " 58%|█████▊    | 45/77 [4:20:51<3:01:09, 339.68s/it]"
     ]
    },
    {
     "data": {
      "application/vnd.jupyter.widget-view+json": {
       "model_id": "884e7ef1dcfd481fae59e0c3e03c3bc5",
       "version_major": 2,
       "version_minor": 0
      },
      "text/plain": [
       "  0%|          | 0/4423 [00:00<?, ?it/s]"
      ]
     },
     "metadata": {},
     "output_type": "display_data"
    },
    {
     "name": "stderr",
     "output_type": "stream",
     "text": [
      "\r",
      " 60%|█████▉    | 46/77 [4:25:11<2:43:11, 315.85s/it]"
     ]
    },
    {
     "data": {
      "application/vnd.jupyter.widget-view+json": {
       "model_id": "a2763848969d455a9bed641d65e5baaa",
       "version_major": 2,
       "version_minor": 0
      },
      "text/plain": [
       "  0%|          | 0/2152 [00:00<?, ?it/s]"
      ]
     },
     "metadata": {},
     "output_type": "display_data"
    },
    {
     "name": "stderr",
     "output_type": "stream",
     "text": [
      "\r",
      " 61%|██████    | 47/77 [4:27:15<2:09:13, 258.44s/it]"
     ]
    },
    {
     "data": {
      "application/vnd.jupyter.widget-view+json": {
       "model_id": "c2222bc9d7fb4c2bb0c00cbe069118c3",
       "version_major": 2,
       "version_minor": 0
      },
      "text/plain": [
       "  0%|          | 0/3539 [00:00<?, ?it/s]"
      ]
     },
     "metadata": {},
     "output_type": "display_data"
    },
    {
     "name": "stderr",
     "output_type": "stream",
     "text": [
      "\r",
      " 62%|██████▏   | 48/77 [4:30:42<1:57:21, 242.80s/it]"
     ]
    },
    {
     "data": {
      "application/vnd.jupyter.widget-view+json": {
       "model_id": "54d41703851448e98828955d179b0eec",
       "version_major": 2,
       "version_minor": 0
      },
      "text/plain": [
       "  0%|          | 0/5907 [00:00<?, ?it/s]"
      ]
     },
     "metadata": {},
     "output_type": "display_data"
    },
    {
     "name": "stderr",
     "output_type": "stream",
     "text": [
      "\r",
      " 64%|██████▎   | 49/77 [4:36:29<2:07:56, 274.18s/it]"
     ]
    },
    {
     "data": {
      "application/vnd.jupyter.widget-view+json": {
       "model_id": "910e71a3a92645d9bcd3e92158427879",
       "version_major": 2,
       "version_minor": 0
      },
      "text/plain": [
       "  0%|          | 0/4736 [00:00<?, ?it/s]"
      ]
     },
     "metadata": {},
     "output_type": "display_data"
    },
    {
     "name": "stderr",
     "output_type": "stream",
     "text": [
      "\r",
      " 65%|██████▍   | 50/77 [4:41:08<2:03:57, 275.45s/it]"
     ]
    },
    {
     "data": {
      "application/vnd.jupyter.widget-view+json": {
       "model_id": "6e99b2dc7e67415aae8f8704fd23064d",
       "version_major": 2,
       "version_minor": 0
      },
      "text/plain": [
       "  0%|          | 0/4242 [00:00<?, ?it/s]"
      ]
     },
     "metadata": {},
     "output_type": "display_data"
    },
    {
     "name": "stderr",
     "output_type": "stream",
     "text": [
      "\r",
      " 66%|██████▌   | 51/77 [4:45:13<1:55:30, 266.54s/it]"
     ]
    },
    {
     "data": {
      "application/vnd.jupyter.widget-view+json": {
       "model_id": "e7b89291570e470ab99819b50cfd8ef1",
       "version_major": 2,
       "version_minor": 0
      },
      "text/plain": [
       "  0%|          | 0/7350 [00:00<?, ?it/s]"
      ]
     },
     "metadata": {},
     "output_type": "display_data"
    }
   ],
   "source": [
    "raw_image_dirs = sorted(glob(path_to_rawimages + \"*.tif\"))\n",
    "seg_image_dirs = sorted(glob(path_to_segmented_images + \"*.tif\"))\n",
    "\n",
    "### Extract single nuclear features for all images and summarise at tissue level\n",
    "Tissue_summary = pd.DataFrame()\n",
    "\n",
    "for i in tqdm(range(len(raw_image_dirs))):\n",
    "    \n",
    "    feature = run_nuclear_chromatin_feat_ext(raw_image_dirs[i],seg_image_dirs[i],path_to_output_nuclear_features)\n",
    "    \n",
    "    feature = feature.drop(['Image','label'], axis=1)\n",
    "    feature = feature.replace('NA',0, regex=True)\n",
    "    feature = feature.replace('NaN',0, regex=True)\n",
    "    \n",
    "    temp = summarise_feature_table(feature)\n",
    "    temp['Image'] = raw_image_dirs[i].rsplit('/', 1)[-1][:-4]\n",
    "    Tissue_summary=pd.concat([Tissue_summary, temp], ignore_index=True, axis=0)\n",
    "    \n",
    "    del feature, temp\n",
    "\n",
    "Tissue_summary.to_csv(path_to_output_tissue_features+\"NMCO_tissue_summary.csv\")"
   ]
  },
  {
   "cell_type": "code",
   "execution_count": null,
   "metadata": {},
   "outputs": [],
   "source": []
  }
 ],
 "metadata": {
  "kernelspec": {
   "display_name": "Python 3",
   "language": "python",
   "name": "python3"
  },
  "language_info": {
   "codemirror_mode": {
    "name": "ipython",
    "version": 3
   },
   "file_extension": ".py",
   "mimetype": "text/x-python",
   "name": "python",
   "nbconvert_exporter": "python",
   "pygments_lexer": "ipython3",
   "version": "3.8.3"
  }
 },
 "nbformat": 4,
 "nbformat_minor": 4
}
