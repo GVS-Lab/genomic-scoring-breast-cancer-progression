{
 "cells": [
  {
   "cell_type": "markdown",
   "metadata": {},
   "source": [
    "# Generating the MGS coded nuclear images\n",
    "\n",
    "\n",
    "Below, we simpl generate an image in which each nucleus has a value that corresponds to it's mechano-genomic score (MGS) which is a measure of its cell health. "
   ]
  },
  {
   "cell_type": "code",
   "execution_count": 1,
   "metadata": {},
   "outputs": [],
   "source": [
    "#import libraries\n",
    "import sys\n",
    "sys.path.append(\"../\")\n",
    "import pandas as pd \n",
    "from pathlib import Path\n",
    "from glob import glob\n",
    "from tqdm.notebook import tqdm\n",
    "from src.utlis.visualize_scores import vis_score,color_code_MGS_image"
   ]
  },
  {
   "cell_type": "code",
   "execution_count": 2,
   "metadata": {},
   "outputs": [],
   "source": [
    "#set paths\n",
    "tumogenesis_score=pd.read_csv('/home/pathy_s/Documents/Mechanogenomic_Score_Breast_Cancer/MGS_data_and_models/MGS_for_plotting.csv')\n",
    "grouped = tumogenesis_score.groupby(tumogenesis_score.Image)\n",
    "path_to_output_segmented_nuclei=\"/home/pathy_s/Documents/Mechanogenomic_Score_Breast_Cancer/Segmented_labels/\"\n",
    "path_to_rawimages='/home/pathy_s/Documents/Mechanogenomic_Score_Breast_Cancer/Raw_Images/all_cores/'\n",
    "path_to_output = \"/home/pathy_s/Documents/Mechanogenomic_Score_Breast_Cancer/MGS_image/\""
   ]
  },
  {
   "cell_type": "code",
   "execution_count": 4,
   "metadata": {},
   "outputs": [
    {
     "data": {
      "application/vnd.jupyter.widget-view+json": {
       "model_id": "1e968085833b4824815e7eda25fea076",
       "version_major": 2,
       "version_minor": 0
      },
      "text/plain": [
       "  0%|          | 0/1 [00:00<?, ?it/s]"
      ]
     },
     "metadata": {},
     "output_type": "display_data"
    },
    {
     "name": "stderr",
     "output_type": "stream",
     "text": [
      "../src/utlis/visualize_scores.py:56: SettingWithCopyWarning: \n",
      "A value is trying to be set on a copy of a slice from a DataFrame.\n",
      "Try using .loc[row_indexer,col_indexer] = value instead\n",
      "\n",
      "See the caveats in the documentation: https://pandas.pydata.org/pandas-docs/stable/user_guide/indexing.html#returning-a-view-versus-a-copy\n",
      "  score['label']=pd.to_numeric(score['nucid'].str.split('_').str[-1])\n"
     ]
    },
    {
     "data": {
      "application/vnd.jupyter.widget-view+json": {
       "model_id": "7625c2463cde4e2a9ec0dfd3a410d331",
       "version_major": 2,
       "version_minor": 0
      },
      "text/plain": [
       "  0%|          | 0/3588 [00:00<?, ?it/s]"
      ]
     },
     "metadata": {},
     "output_type": "display_data"
    }
   ],
   "source": [
    "#Generate images\n",
    "Path(path_to_output).mkdir(parents=True, exist_ok=True)\n",
    "seg_image_dirs = sorted(glob(path_to_output_segmented_nuclei + \"*.tif\"))\n",
    "for i in tqdm(range(len(seg_image_dirs))): \n",
    "    Image = seg_image_dirs[i].rsplit('/', 1)[-1][:-4]\n",
    "    color_code_MGS_image(Image,grouped,seg_image_dirs[i],path_to_output)\n"
   ]
  }
 ],
 "metadata": {
  "kernelspec": {
   "display_name": "Python 3",
   "language": "python",
   "name": "python3"
  },
  "language_info": {
   "codemirror_mode": {
    "name": "ipython",
    "version": 3
   },
   "file_extension": ".py",
   "mimetype": "text/x-python",
   "name": "python",
   "nbconvert_exporter": "python",
   "pygments_lexer": "ipython3",
   "version": "3.8.3"
  }
 },
 "nbformat": 4,
 "nbformat_minor": 4
}
