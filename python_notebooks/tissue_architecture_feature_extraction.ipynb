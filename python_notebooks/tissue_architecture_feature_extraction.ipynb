{
 "cells": [
  {
   "cell_type": "markdown",
   "metadata": {},
   "source": [
    "# Tissue architectural features \n",
    "\n",
    "## Background and aim\n",
    "\n",
    "In addition to intracellular changes, tumor progression is also accompanied by changes to the larger tissue structure. Here we aim to use the nucleus as a probe to characterize some of these changes. To this end, we focused on two key aspects: local crowding/cell density and long range tissue mechanics. Uninhibited proliferation of cancer cells as well as stromal recruitment are two factors that contribute to an increase in the density of cells in the local tumor microenvironment. Forces exerted by the expanding tumor mass on the stromal tissue and as well as increased ECM deposition and aligned collagen fibers in the tumor stroma are some examples of the changes in the local tissue mechanics during tumor progression.\n",
    "\n",
    "Our samples are obtained from tissue microarray (TMA) slides containing annotated clinical biopsies from cancer patients as well as healthy individuals stained for DNA using Hoechst. The nuclei were segmented using a custom model (see _nuclear_feature_extraction_ notebook). In this notebook, we demonstrate how we characterise large scale changes to the tissue structure using the nucleus."
   ]
  },
  {
   "cell_type": "code",
   "execution_count": 1,
   "metadata": {},
   "outputs": [],
   "source": [
    "# import libraries\n",
    "%load_ext autoreload\n",
    "import sys\n",
    "sys.path.append(\"../\")\n",
    "from pathlib import Path\n",
    "from glob import glob\n",
    "import pandas as pd\n",
    "import os\n",
    "from tqdm.notebook import tqdm\n",
    "\n",
    "from src.utlis.Run_nuclear_local_density_estimation import local_nuclear_density\n",
    "from src.utlis.Run_voronoi_features import extract_voronoi_features\n",
    "from src.utlis.summarising_features import summarise_feature_table\n",
    "from src.utlis.Run_mechanically_coupled_regions import mechanically_coupled_regions\n"
   ]
  },
  {
   "cell_type": "code",
   "execution_count": 2,
   "metadata": {},
   "outputs": [],
   "source": [
    "## setup paths\n",
    "path_to_rawimages='/home/pathy_s/Documents/Mechanogenomic_Score_Breast_Cancer/Raw_Images/all_cores/'\n",
    "path_to_segmented_images=\"/home/pathy_s/Documents/Mechanogenomic_Score_Breast_Cancer/Segmented_labels/\"\n",
    "\n",
    "path_to_output_nuclear_local_density_features = \"/home/pathy_s/Documents/Mechanogenomic_Score_Breast_Cancer/Local_density_features/\"\n",
    "path_to_output_voronoi_cell_features = \"/home/pathy_s/Documents/Mechanogenomic_Score_Breast_Cancer/Voronoi_cell_features/\"\n",
    "path_to_output_mechanical_copuling_results = \"/home/pathy_s/Documents/Mechanogenomic_Score_Breast_Cancer/Mechanically_coupled_regions/\"\n",
    "path_to_output_tissue_features = \"/home/pathy_s/Documents/Mechanogenomic_Score_Breast_Cancer/Tissue_Summary/\"\n",
    "#create output directories if they do not exist\n",
    "Path(path_to_output_nuclear_local_density_features).mkdir(parents=True, exist_ok=True)\n",
    "Path(path_to_output_tissue_features).mkdir(parents=True, exist_ok=True)\n",
    "Path(path_to_output_voronoi_cell_features).mkdir(parents=True, exist_ok=True)\n",
    "Path(path_to_output_mechanical_copuling_results).mkdir(parents=True, exist_ok=True)\n",
    "\n",
    "raw_image_dirs = sorted(glob(path_to_rawimages + \"*.tif\"))\n",
    "seg_image_dirs = sorted(glob(path_to_segmented_images + \"*.tif\"))\n"
   ]
  },
  {
   "cell_type": "markdown",
   "metadata": {},
   "source": [
    "## Local cell density / crowding\n",
    "\n",
    "We measured local cell density via the following approaches \n",
    "(i) The number of neighbors for each nucleus at radii ~( 5,15, 25, 40 & 50)µm \n",
    "(ii) Distance between each nucleus and its kth nearest neighbor (k = 1,3,5,10,20) \n",
    "(iii) Voronoi cell properties for each nucleus (area, perimeter and eccentricity)"
   ]
  },
  {
   "cell_type": "code",
   "execution_count": 3,
   "metadata": {},
   "outputs": [
    {
     "data": {
      "application/vnd.jupyter.widget-view+json": {
       "model_id": "225f5545850a4d47ad26e5ac58fb2c64",
       "version_major": 2,
       "version_minor": 0
      },
      "text/plain": [
       "  0%|          | 0/77 [00:00<?, ?it/s]"
      ]
     },
     "metadata": {},
     "output_type": "display_data"
    }
   ],
   "source": [
    "for i in tqdm(range(len(seg_image_dirs))):\n",
    "    \n",
    "    #measure voronoi cell features\n",
    "    v_feature = extract_voronoi_features(seg_image_dirs[i])\n",
    "    v_feature.to_csv(path_to_output_voronoi_cell_features + raw_image_dirs[i].rsplit('/', 1)[-1][:-4] + \".csv\")\n",
    "    \n",
    "    #measure local density features\n",
    "    d_feature = local_nuclear_density(seg_image_dirs[i])\n",
    "    d_feature.to_csv(path_to_output_nuclear_local_density_features + raw_image_dirs[i].rsplit('/', 1)[-1][:-4] + \".csv\")\n",
    "    \n",
    "    del d_feature,v_feature"
   ]
  },
  {
   "cell_type": "markdown",
   "metadata": {},
   "source": [
    "## Measure mechanically coupled regions \n",
    "\n",
    "We perform Density-based spatial clustering of applications with noise (DBSCAN) by using the angles, and centroid coordinates of the elongated nuclei to identify regions where all the nuclei are oriented in the same directions. We used a neighborhood radius ε of 400 pixels and minimum size of a cluster to be 15 nuclei. The identified clusters represent spatial neighbourhoods where nuclei are experiencing the same directional force i.e., they are mechanically coupled. We then calculate features that describe the clusters in tissues (Number of clusters, Fraction of nuclei clustered, area of clusters, relative distances between clusters etc). \n"
   ]
  },
  {
   "cell_type": "code",
   "execution_count": 4,
   "metadata": {
    "scrolled": true
   },
   "outputs": [
    {
     "data": {
      "application/vnd.jupyter.widget-view+json": {
       "model_id": "0d65c0341b474e47a46dcdacbeaafadf",
       "version_major": 2,
       "version_minor": 0
      },
      "text/plain": [
       "  0%|          | 0/77 [00:00<?, ?it/s]"
      ]
     },
     "metadata": {},
     "output_type": "display_data"
    }
   ],
   "source": [
    "Rad=400\n",
    "n_num=15\n",
    "### Extract single nuclear features for all images and summarise at tissue level\n",
    "for i in tqdm(range(len(seg_image_dirs))):\n",
    "    try:\n",
    "        temp = mechanically_coupled_regions(seg_image_dirs[i],\n",
    "                                            path_to_output_mechanical_copuling_results\n",
    "                                            ,Rad,n_num,True)\n",
    "        del temp\n",
    "    except:\n",
    "        pass"
   ]
  }
 ],
 "metadata": {
  "kernelspec": {
   "display_name": "Python 3",
   "language": "python",
   "name": "python3"
  },
  "language_info": {
   "codemirror_mode": {
    "name": "ipython",
    "version": 3
   },
   "file_extension": ".py",
   "mimetype": "text/x-python",
   "name": "python",
   "nbconvert_exporter": "python",
   "pygments_lexer": "ipython3",
   "version": "3.8.3"
  }
 },
 "nbformat": 4,
 "nbformat_minor": 4
}
